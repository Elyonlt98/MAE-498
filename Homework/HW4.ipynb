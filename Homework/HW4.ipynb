{
 "cells": [
  {
   "cell_type": "markdown",
   "id": "81f119a9",
   "metadata": {},
   "source": [
    "# Problem 4"
   ]
  },
  {
   "cell_type": "code",
   "execution_count": 1,
   "id": "706c1e03",
   "metadata": {},
   "outputs": [],
   "source": [
    "#Importing Libraries\n",
    "import numpy as np\n",
    "import math"
   ]
  },
  {
   "cell_type": "code",
   "execution_count": 2,
   "id": "ba9684c8",
   "metadata": {},
   "outputs": [],
   "source": [
    "#Defining the Functions\n",
    "obj = lambda x: x[0]**2 + x[1]**2 + x[2]**2\n",
    "\n",
    "#Calculating the gradients\n",
    "Phpd = lambda x: np.array([[x[0]/2.0], [1.0]])\n",
    "Pfps = lambda x: np.array([2.0*x[1], 2.0*x[2]])\n",
    "Pfpd = lambda x: 2.0*x[0]\n",
    "Phps = lambda x: np.array([[2.0*x[1]/5.0, 2*x[2]/25.0],[1.0,-1.0]])\n",
    "Dfdd = lambda x: Pfpd(x) - np.matmul(np.matmul(Pfps(x),\\\n",
    "                        np.linalg.inv(Phps(x))), Phpd(x))"
   ]
  },
  {
   "cell_type": "code",
   "execution_count": 3,
   "id": "031be7cf",
   "metadata": {},
   "outputs": [],
   "source": [
    "#Line Search\n",
    "def xevl(x,a,dfdd):\n",
    "    d_evl= (x[0]-a*dfdd)[0]\n",
    "    x1 = np.linalg.inv(Phps(x))\n",
    "    x2 = np.matmul(x1,Phpd(x))\n",
    "    y = np.transpose([Dfdd(x)])\n",
    "    x3 = np.matmul(x2,y)\n",
    "    s_evl= x[1:3] + a* np.transpose(x3)[0]\n",
    "    return np.append(d_evl,s_evl)\n",
    "\n",
    "def linesearch(dfdd, x):\n",
    "    a=1\n",
    "    b=0.5\n",
    "    t=0.2\n",
    "    while obj(xevl(x,a,dfdd)) > (obj(x) - a*t* dfdd**2):\n",
    "        a=b*a\n",
    "    return a"
   ]
  },
  {
   "cell_type": "code",
   "execution_count": 4,
   "id": "aac71ff6",
   "metadata": {},
   "outputs": [],
   "source": [
    "#Solution\n",
    "def solve(x): \n",
    "    while np.linalg.norm(np.array([ [ x[0]**2/4 + x[1]**2/5 + x[2]**2/25 -1 ]\\\n",
    "                                   , [x[0]+x[1]-x[2] ] ]))  > e: \n",
    "        phps=Phps(x)\n",
    "        s1= np.transpose( np.transpose([x[1:3]]) - \\\n",
    "                         np.matmul( np.linalg.inv(phps),\\\n",
    "             np.array([ [ x[0]**2/4 + x[1]**2/5 + x[2]**2/25 -1 ],\\\n",
    "                       [x[0]+x[1]-x[2] ] ]))) \n",
    "        x=np.append(x[0:1], np.transpose(s1[0]))\n",
    "    return x\n",
    "\n",
    "x1=0\n",
    "x3= 1/12 * ( (600-170*(x1**2))**(1/2) +10*x1)\n",
    "x2= x3-x1\n",
    "x0=np.array([x1, x2, x3]) \n",
    "e=10**(-3)\n",
    "x_str=[x0]\n",
    "err=[]\n",
    "\n",
    "\n",
    "while np.linalg.norm(Dfdd(x_str[-1])) > e:\n",
    "    x=x_str[-1]\n",
    "    dfdd=Dfdd(x) \n",
    "    err.append(math.log(np.linalg.norm(dfdd))) \n",
    "    a= linesearch(dfdd, x) \n",
    "    dk= x[0]- a*dfdd\n",
    "    s0= x[1:3] + a* np.transpose(  np.matmul(np.matmul(np.linalg.inv(Phps(x)), Phpd(x)),\\\n",
    "                                             np.transpose(dfdd)) )\n",
    "    k0=np.append(dk,s0)\n",
    "    x = solve(k0)\n",
    "    x_str.append(x)"
   ]
  },
  {
   "cell_type": "code",
   "execution_count": 5,
   "id": "f7f7ce8d",
   "metadata": {},
   "outputs": [
    {
     "name": "stdout",
     "output_type": "stream",
     "text": [
      "The local soln exists at [-1.5739877   1.37736099 -0.19662671]\n"
     ]
    }
   ],
   "source": [
    "#Answer    \n",
    "print('The local soln exists at ' +str(x_str[-1]))"
   ]
  }
 ],
 "metadata": {
  "kernelspec": {
   "display_name": "Python 3 (ipykernel)",
   "language": "python",
   "name": "python3"
  },
  "language_info": {
   "codemirror_mode": {
    "name": "ipython",
    "version": 3
   },
   "file_extension": ".py",
   "mimetype": "text/x-python",
   "name": "python",
   "nbconvert_exporter": "python",
   "pygments_lexer": "ipython3",
   "version": "3.9.12"
  }
 },
 "nbformat": 4,
 "nbformat_minor": 5
}
