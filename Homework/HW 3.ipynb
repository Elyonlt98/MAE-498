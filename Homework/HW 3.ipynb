{
 "cells": [
  {
   "cell_type": "code",
   "execution_count": 17,
   "metadata": {},
   "outputs": [],
   "source": [
    "# Importing Libraries\n",
    "\n",
    "import torch as t\n",
    "from torch.autograd import Variable\n",
    "import numpy as np"
   ]
  },
  {
   "cell_type": "code",
   "execution_count": 18,
   "metadata": {},
   "outputs": [],
   "source": [
    "# Calculation Of Saturation Pressure\n",
    "\n",
    "p_sat14=10**(7.43155 - 1554.679/(20+240.337))\n",
    "p_satw=10**(8.071 - 1730.63/(20+233.426))\n",
    "\n",
    "p_g=[ 28.1 , 34.4 , 36.7 , 36.9 , 36.8 , 36.7 , 36.5 , 35.4 , 32.9 , 27.7 , 17.5 ]\n",
    "x_g=[ 0.0 , 0.1 , 0.2 , 0.3 , 0.4 , 0.5 , 0.6 , 0.7 , 0.8 , 0.9 , 1.0 ]"
   ]
  },
  {
   "cell_type": "code",
   "execution_count": 19,
   "metadata": {},
   "outputs": [
    {
     "name": "stdout",
     "output_type": "stream",
     "text": [
      "Saturation Pressure of 1,4 dioxane is 28.824099527405245\n",
      "Saturation Pressure of water is 17.460784103526855\n"
     ]
    }
   ],
   "source": [
    "# Saturation Pressure\n",
    "\n",
    "print(\"Saturation Pressure of 1,4 dioxane is\", p_sat14)\n",
    "print(\"Saturation Pressure of water is\", p_satw)"
   ]
  },
  {
   "cell_type": "code",
   "execution_count": 20,
   "metadata": {},
   "outputs": [],
   "source": [
    "#Functions\n",
    "\n",
    "# Pressure\n",
    "def p(a,x1):\n",
    "    x2=1-x1\n",
    "    return x1 * t.exp(a[0]* ( (a[1]*x2)/(a[0]*x1 + a[1]*x2) )**2 ) * p_satw + x2 * t.exp(a[1]* ( (a[0]*x1)/(a[0]*x1 + a[1]*x2) )**2 ) * p_sat14\n",
    "\n",
    "# Total sum\n",
    "def TS(a):\n",
    "    t=0\n",
    "    for i in range(len(x_g)):\n",
    "        xi=x_g[i]\n",
    "        P=p(a,xi)\n",
    "        t += (P-p_g[i])**2\n",
    "    return t\n",
    "\n",
    "# Step\n",
    "def l(a):\n",
    "    s=0.1\n",
    "    while TS(a-s*a.grad) > TS(a)-s*(0)*np.matmul(a.grad, a.grad):\n",
    "        s=.25*s\n",
    "    return s"
   ]
  },
  {
   "cell_type": "code",
   "execution_count": 21,
   "metadata": {},
   "outputs": [
    {
     "name": "stdout",
     "output_type": "stream",
     "text": [
      "Final value of a is [1.9594604 1.6896328]\n",
      "The value of objective function is 0.67127305\n"
     ]
    }
   ],
   "source": [
    "# Assuming initial values for A12 and A21 as 2 & 1.\n",
    "a = Variable(t.tensor([2.0, 1.0]), requires_grad=True)\n",
    "\n",
    "# Error\n",
    "e = 150\n",
    "\n",
    "# Gradient Descent\n",
    "while e > 0.15:\n",
    "    obj=TS(a)\n",
    "    obj.backward()\n",
    "    step=l(a)\n",
    "    e = t.linalg.norm(a.grad)\n",
    "    with t.no_grad():\n",
    "        a -= step * a.grad\n",
    "        a.grad.zero_()\n",
    "\n",
    "print('Final value of a is ' + str(a.data.numpy()))\n",
    "print('The value of objective function is ' + str(obj.data.numpy()))"
   ]
  },
  {
   "cell_type": "code",
   "execution_count": 22,
   "metadata": {},
   "outputs": [
    {
     "name": "stdout",
     "output_type": "stream",
     "text": [
      "Given P        Modelled P\n",
      "28.1        28.824098587036133\n",
      "34.4        34.64482498168945\n",
      "36.7        36.45182800292969\n",
      "36.9        36.86505126953125\n",
      "36.8        36.87146759033203\n",
      "36.7        36.747562408447266\n",
      "36.5        36.3885498046875\n",
      "35.4        35.38287353515625\n",
      "32.9        32.94468688964844\n",
      "27.7        27.723770141601562\n",
      "17.5        17.460784912109375\n"
     ]
    }
   ],
   "source": [
    "# Comparison between given data and modelled data\n",
    "print('Given P        Modelled P')\n",
    "for i in range(0,11):\n",
    "    print(str(p_g[i]) + '        ' + str(p(a.data,x_g[i]).item()))"
   ]
  },
  {
   "cell_type": "markdown",
   "metadata": {},
   "source": [
    "The modelled pressures fit very well with the values given in the data."
   ]
  },
  {
   "cell_type": "code",
   "execution_count": 1,
   "metadata": {},
   "outputs": [
    {
     "name": "stdout",
     "output_type": "stream",
     "text": [
      "|   iter    |  target   |    x1     |    x2     |\n",
      "-------------------------------------------------\n",
      "| \u001B[0m 1       \u001B[0m | \u001B[0m-3.773   \u001B[0m | \u001B[0m-0.4979  \u001B[0m | \u001B[0m 0.8813  \u001B[0m |\n",
      "| \u001B[95m 2       \u001B[0m | \u001B[95m 0.009079\u001B[0m | \u001B[95m-2.999   \u001B[0m | \u001B[95m-0.7907  \u001B[0m |\n"
     ]
    },
    {
     "ename": "TypeError",
     "evalue": "'float' object is not subscriptable",
     "output_type": "error",
     "traceback": [
      "\u001B[1;31m---------------------------------------------------------------------------\u001B[0m",
      "\u001B[1;31mStopIteration\u001B[0m                             Traceback (most recent call last)",
      "File \u001B[1;32m~\\Documents\\MAE-598\\venv\\lib\\site-packages\\bayes_opt\\bayesian_optimization.py:179\u001B[0m, in \u001B[0;36mBayesianOptimization.maximize\u001B[1;34m(self, init_points, n_iter, acq, kappa, kappa_decay, kappa_decay_delay, xi, **gp_params)\u001B[0m\n\u001B[0;32m    178\u001B[0m \u001B[38;5;28;01mtry\u001B[39;00m:\n\u001B[1;32m--> 179\u001B[0m     x_probe \u001B[38;5;241m=\u001B[39m \u001B[38;5;28;43mnext\u001B[39;49m\u001B[43m(\u001B[49m\u001B[38;5;28;43mself\u001B[39;49m\u001B[38;5;241;43m.\u001B[39;49m\u001B[43m_queue\u001B[49m\u001B[43m)\u001B[49m\n\u001B[0;32m    180\u001B[0m \u001B[38;5;28;01mexcept\u001B[39;00m \u001B[38;5;167;01mStopIteration\u001B[39;00m:\n",
      "File \u001B[1;32m~\\Documents\\MAE-598\\venv\\lib\\site-packages\\bayes_opt\\bayesian_optimization.py:25\u001B[0m, in \u001B[0;36mQueue.__next__\u001B[1;34m(self)\u001B[0m\n\u001B[0;32m     24\u001B[0m \u001B[38;5;28;01mif\u001B[39;00m \u001B[38;5;28mself\u001B[39m\u001B[38;5;241m.\u001B[39mempty:\n\u001B[1;32m---> 25\u001B[0m     \u001B[38;5;28;01mraise\u001B[39;00m \u001B[38;5;167;01mStopIteration\u001B[39;00m(\u001B[38;5;124m\"\u001B[39m\u001B[38;5;124mQueue is empty, no more objects to retrieve.\u001B[39m\u001B[38;5;124m\"\u001B[39m)\n\u001B[0;32m     26\u001B[0m obj \u001B[38;5;241m=\u001B[39m \u001B[38;5;28mself\u001B[39m\u001B[38;5;241m.\u001B[39m_queue[\u001B[38;5;241m0\u001B[39m]\n",
      "\u001B[1;31mStopIteration\u001B[0m: Queue is empty, no more objects to retrieve.",
      "\nDuring handling of the above exception, another exception occurred:\n",
      "\u001B[1;31mTypeError\u001B[0m                                 Traceback (most recent call last)",
      "Cell \u001B[1;32mIn [1], line 8\u001B[0m\n\u001B[0;32m      5\u001B[0m bound \u001B[38;5;241m=\u001B[39m {\u001B[38;5;124m'\u001B[39m\u001B[38;5;124mx1\u001B[39m\u001B[38;5;124m'\u001B[39m:(\u001B[38;5;241m-\u001B[39m\u001B[38;5;241m3\u001B[39m,\u001B[38;5;241m3\u001B[39m),\u001B[38;5;124m'\u001B[39m\u001B[38;5;124mx2\u001B[39m\u001B[38;5;124m'\u001B[39m:(\u001B[38;5;241m-\u001B[39m\u001B[38;5;241m2\u001B[39m,\u001B[38;5;241m2\u001B[39m)}\n\u001B[0;32m      7\u001B[0m optimizer \u001B[38;5;241m=\u001B[39m BayesianOptimization(f\u001B[38;5;241m=\u001B[39mfun,pbounds\u001B[38;5;241m=\u001B[39mbound,random_state\u001B[38;5;241m=\u001B[39m\u001B[38;5;241m1\u001B[39m)\n\u001B[1;32m----> 8\u001B[0m \u001B[43moptimizer\u001B[49m\u001B[38;5;241;43m.\u001B[39;49m\u001B[43mmaximize\u001B[49m\u001B[43m(\u001B[49m\u001B[43minit_points\u001B[49m\u001B[38;5;241;43m=\u001B[39;49m\u001B[38;5;241;43m2\u001B[39;49m\u001B[43m,\u001B[49m\u001B[43mn_iter\u001B[49m\u001B[38;5;241;43m=\u001B[39;49m\u001B[38;5;241;43m100\u001B[39;49m\u001B[43m)\u001B[49m\n\u001B[0;32m      9\u001B[0m \u001B[38;5;28mprint\u001B[39m(optimizer\u001B[38;5;241m.\u001B[39mmax)\n",
      "File \u001B[1;32m~\\Documents\\MAE-598\\venv\\lib\\site-packages\\bayes_opt\\bayesian_optimization.py:182\u001B[0m, in \u001B[0;36mBayesianOptimization.maximize\u001B[1;34m(self, init_points, n_iter, acq, kappa, kappa_decay, kappa_decay_delay, xi, **gp_params)\u001B[0m\n\u001B[0;32m    180\u001B[0m \u001B[38;5;28;01mexcept\u001B[39;00m \u001B[38;5;167;01mStopIteration\u001B[39;00m:\n\u001B[0;32m    181\u001B[0m     util\u001B[38;5;241m.\u001B[39mupdate_params()\n\u001B[1;32m--> 182\u001B[0m     x_probe \u001B[38;5;241m=\u001B[39m \u001B[38;5;28;43mself\u001B[39;49m\u001B[38;5;241;43m.\u001B[39;49m\u001B[43msuggest\u001B[49m\u001B[43m(\u001B[49m\u001B[43mutil\u001B[49m\u001B[43m)\u001B[49m\n\u001B[0;32m    183\u001B[0m     iteration \u001B[38;5;241m+\u001B[39m\u001B[38;5;241m=\u001B[39m \u001B[38;5;241m1\u001B[39m\n\u001B[0;32m    185\u001B[0m \u001B[38;5;28mself\u001B[39m\u001B[38;5;241m.\u001B[39mprobe(x_probe, lazy\u001B[38;5;241m=\u001B[39m\u001B[38;5;28;01mFalse\u001B[39;00m)\n",
      "File \u001B[1;32m~\\Documents\\MAE-598\\venv\\lib\\site-packages\\bayes_opt\\bayesian_optimization.py:131\u001B[0m, in \u001B[0;36mBayesianOptimization.suggest\u001B[1;34m(self, utility_function)\u001B[0m\n\u001B[0;32m    128\u001B[0m     \u001B[38;5;28mself\u001B[39m\u001B[38;5;241m.\u001B[39m_gp\u001B[38;5;241m.\u001B[39mfit(\u001B[38;5;28mself\u001B[39m\u001B[38;5;241m.\u001B[39m_space\u001B[38;5;241m.\u001B[39mparams, \u001B[38;5;28mself\u001B[39m\u001B[38;5;241m.\u001B[39m_space\u001B[38;5;241m.\u001B[39mtarget)\n\u001B[0;32m    130\u001B[0m \u001B[38;5;66;03m# Finding argmax of the acquisition function.\u001B[39;00m\n\u001B[1;32m--> 131\u001B[0m suggestion \u001B[38;5;241m=\u001B[39m \u001B[43macq_max\u001B[49m\u001B[43m(\u001B[49m\n\u001B[0;32m    132\u001B[0m \u001B[43m    \u001B[49m\u001B[43mac\u001B[49m\u001B[38;5;241;43m=\u001B[39;49m\u001B[43mutility_function\u001B[49m\u001B[38;5;241;43m.\u001B[39;49m\u001B[43mutility\u001B[49m\u001B[43m,\u001B[49m\n\u001B[0;32m    133\u001B[0m \u001B[43m    \u001B[49m\u001B[43mgp\u001B[49m\u001B[38;5;241;43m=\u001B[39;49m\u001B[38;5;28;43mself\u001B[39;49m\u001B[38;5;241;43m.\u001B[39;49m\u001B[43m_gp\u001B[49m\u001B[43m,\u001B[49m\n\u001B[0;32m    134\u001B[0m \u001B[43m    \u001B[49m\u001B[43my_max\u001B[49m\u001B[38;5;241;43m=\u001B[39;49m\u001B[38;5;28;43mself\u001B[39;49m\u001B[38;5;241;43m.\u001B[39;49m\u001B[43m_space\u001B[49m\u001B[38;5;241;43m.\u001B[39;49m\u001B[43mtarget\u001B[49m\u001B[38;5;241;43m.\u001B[39;49m\u001B[43mmax\u001B[49m\u001B[43m(\u001B[49m\u001B[43m)\u001B[49m\u001B[43m,\u001B[49m\n\u001B[0;32m    135\u001B[0m \u001B[43m    \u001B[49m\u001B[43mbounds\u001B[49m\u001B[38;5;241;43m=\u001B[39;49m\u001B[38;5;28;43mself\u001B[39;49m\u001B[38;5;241;43m.\u001B[39;49m\u001B[43m_space\u001B[49m\u001B[38;5;241;43m.\u001B[39;49m\u001B[43mbounds\u001B[49m\u001B[43m,\u001B[49m\n\u001B[0;32m    136\u001B[0m \u001B[43m    \u001B[49m\u001B[43mrandom_state\u001B[49m\u001B[38;5;241;43m=\u001B[39;49m\u001B[38;5;28;43mself\u001B[39;49m\u001B[38;5;241;43m.\u001B[39;49m\u001B[43m_random_state\u001B[49m\n\u001B[0;32m    137\u001B[0m \u001B[43m\u001B[49m\u001B[43m)\u001B[49m\n\u001B[0;32m    139\u001B[0m \u001B[38;5;28;01mreturn\u001B[39;00m \u001B[38;5;28mself\u001B[39m\u001B[38;5;241m.\u001B[39m_space\u001B[38;5;241m.\u001B[39marray_to_params(suggestion)\n",
      "File \u001B[1;32m~\\Documents\\MAE-598\\venv\\lib\\site-packages\\bayes_opt\\util.py:65\u001B[0m, in \u001B[0;36macq_max\u001B[1;34m(ac, gp, y_max, bounds, random_state, n_warmup, n_iter)\u001B[0m\n\u001B[0;32m     62\u001B[0m     \u001B[38;5;28;01mcontinue\u001B[39;00m\n\u001B[0;32m     64\u001B[0m \u001B[38;5;66;03m# Store it if better than previous minimum(maximum).\u001B[39;00m\n\u001B[1;32m---> 65\u001B[0m \u001B[38;5;28;01mif\u001B[39;00m max_acq \u001B[38;5;129;01mis\u001B[39;00m \u001B[38;5;28;01mNone\u001B[39;00m \u001B[38;5;129;01mor\u001B[39;00m \u001B[38;5;241m-\u001B[39m\u001B[43mres\u001B[49m\u001B[38;5;241;43m.\u001B[39;49m\u001B[43mfun\u001B[49m\u001B[43m[\u001B[49m\u001B[38;5;241;43m0\u001B[39;49m\u001B[43m]\u001B[49m \u001B[38;5;241m>\u001B[39m\u001B[38;5;241m=\u001B[39m max_acq:\n\u001B[0;32m     66\u001B[0m     x_max \u001B[38;5;241m=\u001B[39m res\u001B[38;5;241m.\u001B[39mx\n\u001B[0;32m     67\u001B[0m     max_acq \u001B[38;5;241m=\u001B[39m \u001B[38;5;241m-\u001B[39mres\u001B[38;5;241m.\u001B[39mfun[\u001B[38;5;241m0\u001B[39m]\n",
      "\u001B[1;31mTypeError\u001B[0m: 'float' object is not subscriptable"
     ]
    }
   ],
   "source": [
    "def fun(x1,x2):\n",
    "    return 1/((4 - 2.1*x1**2 + (x1**4)/3)*x1**2 + x1*x2 + (-4 + 4*(x2**2))*x2**2)\n",
    "\n",
    "from bayes_opt import BayesianOptimization\n",
    "bound = {'x1':(-3,3),'x2':(-2,2)}\n",
    "\n",
    "optimizer = BayesianOptimization(f=fun,pbounds=bound,random_state=1)\n",
    "optimizer.maximize(init_points=2,n_iter=100)\n",
    "print(optimizer.max)"
   ]
  },
  {
   "cell_type": "code",
   "execution_count": null,
   "metadata": {},
   "outputs": [],
   "source": []
  }
 ],
 "metadata": {
  "kernelspec": {
   "display_name": "Python 3 (ipykernel)",
   "language": "python",
   "name": "python3"
  },
  "language_info": {
   "codemirror_mode": {
    "name": "ipython",
    "version": 3
   },
   "file_extension": ".py",
   "mimetype": "text/x-python",
   "name": "python",
   "nbconvert_exporter": "python",
   "pygments_lexer": "ipython3",
   "version": "3.10.4"
  }
 },
 "nbformat": 4,
 "nbformat_minor": 1
}
