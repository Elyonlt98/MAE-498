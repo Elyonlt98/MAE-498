{
 "cells": [
  {
   "cell_type": "code",
   "execution_count": 149,
   "metadata": {},
   "outputs": [],
   "source": [
    "# Importing Libraries\n",
    "\n",
    "import torch as t\n",
    "from torch.autograd import Variable\n",
    "import numpy as np"
   ]
  },
  {
   "cell_type": "code",
   "execution_count": 150,
   "metadata": {},
   "outputs": [],
   "source": [
    "# Calculation Of Saturation Pressure\n",
    "\n",
    "p_sat14=10**(7.43155 - 1554.679/(20+240.337))\n",
    "p_satw=10**(8.071 - 1730.63/(20+233.426))\n",
    "\n",
    "p_g=[ 28.1 , 34.4 , 36.7 , 36.9 , 36.8 , 36.7 , 36.5 , 35.4 , 32.9 , 27.7 , 17.5 ]\n",
    "x_g=[ 0.0 , 0.1 , 0.2 , 0.3 , 0.4 , 0.5 , 0.6 , 0.7 , 0.8 , 0.9 , 1.0 ]"
   ]
  },
  {
   "cell_type": "code",
   "execution_count": 151,
   "metadata": {},
   "outputs": [
    {
     "name": "stdout",
     "output_type": "stream",
     "text": [
      "Saturation Pressure of 1,4 dioxane is 28.824099527405245\n",
      "Saturation Pressure of water is 17.460784103526855\n"
     ]
    }
   ],
   "source": [
    "# Saturation Pressure\n",
    "\n",
    "print(\"Saturation Pressure of 1,4 dioxane is\", p_sat14)\n",
    "print(\"Saturation Pressure of water is\", p_satw)"
   ]
  },
  {
   "cell_type": "code",
   "execution_count": 152,
   "metadata": {},
   "outputs": [],
   "source": [
    "#Functions\n",
    "\n",
    "# Pressure\n",
    "def p(a,x1):\n",
    "    x2=1-x1\n",
    "    return x1 * t.exp(a[0]* ( (a[1]*x2)/(a[0]*x1 + a[1]*x2) )**2 ) * p_satw + x2 * t.exp(a[1]* ( (a[0]*x1)/(a[0]*x1 + a[1]*x2) )**2 ) * p_sat14\n",
    "\n",
    "# Total sum\n",
    "def TS(a):\n",
    "    t=0\n",
    "    for i in range(len(x)):\n",
    "        xi=x[i]\n",
    "        P=p(a,xi)\n",
    "        t += (P-p_g[i])**2\n",
    "    return t\n",
    "\n",
    "# Step\n",
    "def l(a):\n",
    "    s=0.1\n",
    "    while objf(a-s*a.grad) > objf(a)-s*(0)*np.matmul(a.grad,a.grad):\n",
    "        s=.25*s\n",
    "    return s"
   ]
  },
  {
   "cell_type": "code",
   "execution_count": 153,
   "metadata": {},
   "outputs": [
    {
     "name": "stdout",
     "output_type": "stream",
     "text": [
      "Final value of a is [1.9595522 1.6900328]\n",
      "The value of objective function is 0.671225\n"
     ]
    }
   ],
   "source": [
    "# Assuming initial values for A12 and A21 as 2 & 1.\n",
    "a = Variable(t.tensor([2.0, 1.0]), requires_grad=True)\n",
    "\n",
    "# Error\n",
    "e = 50\n",
    "\n",
    "# Gradient Descent\n",
    "while e > 0.05:\n",
    "    obj=TS(a)\n",
    "    obj.backward()\n",
    "    step=l(a)\n",
    "    e = t.linalg.norm(a.grad)\n",
    "    with t.no_grad():\n",
    "        a -= step * a.grad\n",
    "        a.grad.zero_()\n",
    "\n",
    "print('Final value of a is ' + str(a.data.numpy()))\n",
    "print('The value of objective function is ' + str(objective.data.numpy()))"
   ]
  },
  {
   "cell_type": "code",
   "execution_count": 154,
   "metadata": {},
   "outputs": [
    {
     "name": "stdout",
     "output_type": "stream",
     "text": [
      "Given P        Modelled P\n",
      "28.1        28.824098587036133\n",
      "34.4        34.64588928222656\n",
      "36.7        36.453468322753906\n",
      "36.9        36.86687469482422\n",
      "36.8        36.87336730957031\n",
      "36.7        36.749656677246094\n",
      "36.5        36.39109802246094\n",
      "35.4        35.38610076904297\n",
      "32.9        32.94852066040039\n",
      "27.7        27.727237701416016\n",
      "17.5        17.460784912109375\n"
     ]
    }
   ],
   "source": [
    "a_sol = a.data\n",
    "print('Given P        Modelled P')\n",
    "for i in range(len(x)):\n",
    "    print(str(p_g[i]) + '        ' + str(p(a_sol,x[i]).item()))"
   ]
  },
  {
   "cell_type": "markdown",
   "metadata": {},
   "source": [
    "The modelled pressures fit very well with the values given in the data."
   ]
  }
 ],
 "metadata": {
  "kernelspec": {
   "display_name": "Python 3 (ipykernel)",
   "language": "python",
   "name": "python3"
  },
  "language_info": {
   "codemirror_mode": {
    "name": "ipython",
    "version": 3
   },
   "file_extension": ".py",
   "mimetype": "text/x-python",
   "name": "python",
   "nbconvert_exporter": "python",
   "pygments_lexer": "ipython3",
   "version": "3.10.4"
  }
 },
 "nbformat": 4,
 "nbformat_minor": 1
}
