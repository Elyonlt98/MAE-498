{
 "cells": [
  {
   "cell_type": "markdown",
   "id": "6783bb71",
   "metadata": {
    "pycharm": {
     "name": "#%% md\n"
    }
   },
   "source": [
    "Problem 2\n",
    "Gradient Descent Method"
   ]
  },
  {
   "cell_type": "code",
   "execution_count": 1,
   "id": "9003ecf3",
   "metadata": {
    "pycharm": {
     "name": "#%%\n"
    }
   },
   "outputs": [],
   "source": [
    "#importing libraries\n",
    "import numpy as np\n",
    "import matplotlib.pyplot as plt"
   ]
  },
  {
   "cell_type": "code",
   "execution_count": 2,
   "id": "dcfadc73",
   "metadata": {
    "pycharm": {
     "name": "#%%\n"
    }
   },
   "outputs": [],
   "source": [
    "#defining objective function\n",
    "def obj(x):\n",
    "     return (2 - 2*x[0] - 3*x[1])**2 + (x[0])**2 + (x[1] - 1)**2"
   ]
  },
  {
   "cell_type": "code",
   "execution_count": 3,
   "id": "a373ce0b",
   "metadata": {
    "pycharm": {
     "name": "#%%\n"
    }
   },
   "outputs": [],
   "source": [
    "#defining Gradient Function\n",
    "def grad(x):\n",
    "     return np.array([ 10*x[0]+12*x[1]-8, 12*x[0]+20*x[1]-14])"
   ]
  },
  {
   "cell_type": "code",
   "execution_count": 4,
   "id": "1adc18d2",
   "metadata": {
    "pycharm": {
     "name": "#%%\n"
    }
   },
   "outputs": [],
   "source": [
    "#Hessian function for the problem\n",
    "def hess(x):\n",
    "     return np.array([[10,12],[12,20]])"
   ]
  },
  {
   "cell_type": "code",
   "execution_count": 5,
   "id": "8de78b18",
   "metadata": {
    "pycharm": {
     "name": "#%%\n"
    }
   },
   "outputs": [],
   "source": [
    "#termination criteria\n",
    "epsilon = 1e-3\n",
    "\n",
    "#intital value \n",
    "x0 = [12,25]"
   ]
  },
  {
   "cell_type": "code",
   "execution_count": 6,
   "id": "c8b0a75b",
   "metadata": {
    "pycharm": {
     "name": "#%%\n"
    }
   },
   "outputs": [],
   "source": [
    "t = 0.15\n",
    "kMax = 100"
   ]
  },
  {
   "cell_type": "code",
   "execution_count": 7,
   "id": "e2c24cac",
   "metadata": {
    "pycharm": {
     "name": "#%%\n"
    }
   },
   "outputs": [],
   "source": [
    "xVal = []\n",
    "objVal = []\n",
    "gradVal = []"
   ]
  },
  {
   "cell_type": "code",
   "execution_count": 8,
   "id": "ab179400",
   "metadata": {
    "pycharm": {
     "name": "#%%\n"
    }
   },
   "outputs": [],
   "source": [
    "#Applying Gradient Descent Algorithm\n",
    "def alphaDash(x):\n",
    "    alpha = 1\n",
    "    k = 0\n",
    "    while obj(x - alpha*grad(x)) > obj(x) - (t * np.matmul(grad(x).T,grad(x)) * alpha) and k<kMax: \n",
    "        alpha = 0.5 * alpha\n",
    "        k=k+1\n",
    "    return alpha\n",
    "\n",
    "\n",
    "while np.linalg.norm(grad(x0))>epsilon :\n",
    "    xVal.append(x0)\n",
    "    gradVal.append(np.linalg.norm(grad(x0)))\n",
    "    objVal.append(obj(x0))\n",
    "\n",
    "    alpha=alphaDash(x0)\n",
    "    x0=x0-alpha*grad(x0)\n"
   ]
  },
  {
   "cell_type": "markdown",
   "id": "b0ef9c51",
   "metadata": {
    "pycharm": {
     "name": "#%% md\n"
    }
   },
   "source": [
    "    Graph for Gradient Descent"
   ]
  },
  {
   "cell_type": "code",
   "execution_count": 9,
   "id": "34241a41",
   "metadata": {
    "pycharm": {
     "name": "#%%\n"
    }
   },
   "outputs": [
    {
     "data": {
      "text/plain": "<Figure size 432x288 with 1 Axes>",
      "image/png": "[encoded data removed]"
     },
     "metadata": {
      "needs_background": "light"
     },
     "output_type": "display_data"
    }
   ],
   "source": [
    "plt.plot(np.arange(len(gradVal)),np.abs(objVal-objVal[-1]))\n",
    "plt.yscale('log')"
   ]
  },
  {
   "cell_type": "markdown",
   "id": "33d4604f",
   "metadata": {
    "pycharm": {
     "name": "#%% md\n"
    }
   },
   "source": [
    "Newton's Method"
   ]
  },
  {
   "cell_type": "code",
   "execution_count": 10,
   "id": "09b8153a",
   "metadata": {
    "pycharm": {
     "name": "#%%\n"
    }
   },
   "outputs": [],
   "source": [
    "epsilon = 1e-7 # tolerance\n",
    "x0 = np.array([10 , 20])\n",
    "x1=np.array([0 , 0])\n",
    "k=0\n",
    "objValue=[]\n",
    "gradValue=[]"
   ]
  },
  {
   "cell_type": "code",
   "execution_count": 11,
   "id": "a33cbe0d",
   "metadata": {
    "pycharm": {
     "name": "#%%\n"
    }
   },
   "outputs": [],
   "source": [
    "while np.linalg.norm(x1-x0)>epsilon and k<kMax:\n",
    "    x1=x0-np.matmul(np.linalg.inv(hess(x0)),grad(x0))\n",
    "    gradValue.append(np.linalg.norm(grad(x0)))\n",
    "    objValue.append(obj(x1))\n",
    "    k+=1"
   ]
  },
  {
   "cell_type": "code",
   "execution_count": 12,
   "id": "ab3a8a69",
   "metadata": {
    "pycharm": {
     "name": "#%%\n"
    }
   },
   "outputs": [
    {
     "data": {
      "text/plain": "array([-0.14285714,  0.78571429])"
     },
     "execution_count": 12,
     "metadata": {},
     "output_type": "execute_result"
    }
   ],
   "source": [
    "x1"
   ]
  }
 ],
 "metadata": {
  "kernelspec": {
   "display_name": "Python 3 (ipykernel)",
   "language": "python",
   "name": "python3"
  },
  "language_info": {
   "codemirror_mode": {
    "name": "ipython",
    "version": 3
   },
   "file_extension": ".py",
   "mimetype": "text/x-python",
   "name": "python",
   "nbconvert_exporter": "python",
   "pygments_lexer": "ipython3",
   "version": "3.10.4"
  }
 },
 "nbformat": 4,
 "nbformat_minor": 5
}