{
 "cells": [
  {
   "cell_type": "code",
   "execution_count": 3,
   "metadata": {
    "collapsed": true
   },
   "outputs": [],
   "source": [
    "from scipy import optimize"
   ]
  },
  {
   "cell_type": "code",
   "execution_count": 4,
   "metadata": {},
   "outputs": [],
   "source": [
    "# Function\n",
    "fx = lambda x: (x[0] - x[1])**2 + (x[1] + x[2] - 2)**2 + (x[3] - 1)**2 + (x[4] -1)**2"
   ]
  },
  {
   "cell_type": "code",
   "execution_count": 5,
   "outputs": [
    {
     "data": {
      "text/plain": "4.093023255813957"
     },
     "execution_count": 5,
     "metadata": {},
     "output_type": "execute_result"
    }
   ],
   "source": [
    "# Constraints\n",
    "c = ({'type': 'eq', 'fun': lambda x:  x[0] + 3 * x[1]},\n",
    "{'type': 'eq', 'fun': lambda x:  x[2] + x[3] - 2 * x[4]},\n",
    "{'type': 'eq', 'fun': lambda x:  x[1] - x[4]})\n",
    "\n",
    "# Upper and Lower Bounds\n",
    "b = ((-10, 10),(-10, 10),(-10, 10),(-10, 10),(-10, 10))\n",
    "\n",
    "# Results\n",
    "r = optimize.minimize(fx, (0.5,2,1,-0.5,1), method='SLSQP', bounds=b,constraints=c)\n",
    "\n",
    "# Minimal Value of Function\n",
    "r.fun"
   ],
   "metadata": {
    "collapsed": false
   }
  },
  {
   "cell_type": "code",
   "execution_count": 6,
   "metadata": {},
   "outputs": [
    {
     "data": {
      "text/plain": "array([-0.76744188,  0.25581396,  0.62790694, -0.11627902,  0.25581396])"
     },
     "execution_count": 6,
     "metadata": {},
     "output_type": "execute_result"
    }
   ],
   "source": [
    "# X\n",
    "r.x"
   ]
  }
 ],
 "metadata": {
  "kernelspec": {
   "display_name": "Python 3 (ipykernel)",
   "language": "python",
   "name": "python3"
  },
  "language_info": {
   "codemirror_mode": {
    "name": "ipython",
    "version": 3
   },
   "file_extension": ".py",
   "mimetype": "text/x-python",
   "name": "python",
   "nbconvert_exporter": "python",
   "pygments_lexer": "ipython3",
   "version": "3.10.4"
  }
 },
 "nbformat": 4,
 "nbformat_minor": 1
}
